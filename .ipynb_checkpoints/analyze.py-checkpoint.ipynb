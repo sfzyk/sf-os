{
 "cells": [
  {
   "cell_type": "code",
   "execution_count": 31,
   "metadata": {},
   "outputs": [
    {
     "name": "stdout",
     "output_type": "stream",
     "text": [
      "1 0010 0011 0001 0010 0011 1010 1011 1100 "
     ]
    }
   ],
   "source": [
    "import sys \n",
    "import re\n",
    "a = sys.argv[1]\n",
    "#a = \"0x123123abc\"\n",
    "a = int(a,16)\n",
    "st = ''\n",
    "while a!=0:\n",
    "    if a%2 == 1:\n",
    "        st=st+'1'\n",
    "    else:\n",
    "        st=st+'0'\n",
    "    a//=2\n",
    "    \n",
    "l = len(st)   \n",
    "while l!=0 :\n",
    "    print(st[l-1],end='')\n",
    "    if l%4==1 :\n",
    "        print(\" \",end='')\n",
    "    l=l-1"
   ]
  },
  {
   "cell_type": "code",
   "execution_count": 29,
   "metadata": {},
   "outputs": [],
   "source": []
  },
  {
   "cell_type": "code",
   "execution_count": 25,
   "metadata": {},
   "outputs": [
    {
     "data": {
      "text/plain": [
       "'001111010101110001001000110001001'"
      ]
     },
     "execution_count": 25,
     "metadata": {},
     "output_type": "execute_result"
    }
   ],
   "source": [
    "st"
   ]
  },
  {
   "cell_type": "code",
   "execution_count": null,
   "metadata": {},
   "outputs": [],
   "source": []
  }
 ],
 "metadata": {
  "kernelspec": {
   "display_name": "Python 3",
   "language": "python",
   "name": "python3"
  },
  "language_info": {
   "codemirror_mode": {
    "name": "ipython",
    "version": 3
   },
   "file_extension": ".py",
   "mimetype": "text/x-python",
   "name": "python",
   "nbconvert_exporter": "python",
   "pygments_lexer": "ipython3",
   "version": "3.5.2"
  }
 },
 "nbformat": 4,
 "nbformat_minor": 4
}
